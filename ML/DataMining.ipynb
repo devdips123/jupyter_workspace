{
 "cells": [
  {
   "cell_type": "code",
   "execution_count": null,
   "metadata": {},
   "outputs": [],
   "source": []
  },
  {
   "cell_type": "markdown",
   "metadata": {},
   "source": [
    "### Data Mining"
   ]
  },
  {
   "cell_type": "markdown",
   "metadata": {},
   "source": [
    "*\"We are drowning in data, but starving for knowledge\"*\n",
    "\n",
    "- Data Mining is the process of automated analysis of large data sets.\n",
    "- Data Mining is the extraction of interesting ( non-trivial, previously unknown, implicit and potential useful) patterns or knowledge from huge amount of data.\n",
    "- Data Mining is also known as Business Intelligence (BI), Knowledge Discovery in DAtabases (KDD), Data Analysis etc.\n",
    "\n"
   ]
  },
  {
   "cell_type": "markdown",
   "metadata": {},
   "source": [
    "Multi Dimensional Data Cube\n",
    "\n",
    "Data are usually stored as multi-dimensional cubes. The data is stored as a summerized version like count, avg, sum, etc. rather than showing specifics of transactions. Each cell of the cube represents some kind of summerized data\n",
    "\n",
    "- Drill Down: Ability to get into minute details. like Quarters can be further divided into months\n",
    "- Roll up: Ability to further summerized. like cities can be combined together as countries.\n",
    "\n",
    "\n",
    "\n"
   ]
  },
  {
   "cell_type": "markdown",
   "metadata": {},
   "source": [
    "#### Data Cube\n",
    "\n",
    "- Data cube is a latice of cuboids\n",
    "- N dim data cube is a cube with N dimensions or attributes.\n",
    "- Measures are represented in the cells.\n",
    "- Base cell: Measures in the base cuboid are called base cells\n",
    "- Aggregate cell: Any measure in the non-base lattice is called aggregate cell. And an aggregate cell aggregates over one or more dimensions.\n",
    "- For a n-dim cube, cells are represented as m-dimensional cells. if m==n, then the cell is base cell else its an aggregate cell\n",
    "- Ancestor and descendant cells - A cell a of i-dim is called an ancestor cell b of j-dim if and only if i < j."
   ]
  },
  {
   "cell_type": "markdown",
   "metadata": {},
   "source": [
    "#### Data Cube Materialization\n",
    "\n",
    "Pre-computing the cuboids of a data cube and storing it in the file system ahead of time, so that at the time of data-analysis, the process of querying become faster is called Data Cube Materialization\n",
    "\n",
    "- Full Cube Materialization\n",
    "- Partial Cube Materialization\n",
    "   - Iceberg Cubes:  Most of the time, a substantial amount of cube's space is taken up by measures with very low values. This is because, the cubes are mostly sparsely distributed within a multidimensional space. In such cases, it is sometimes useful to materialize only those cells in the cuboid whose values are above a certain threshold. Such, partially materialized cubes are known as ice-berg cubes.\n",
    "   The minimum threshold is called the **Minimum Support Threshold**. The constraint specified in the having clause is called as **iceberg condition**\n",
    "\n",
    "Problems with Data Cube pre computation\n",
    "- huge computational power\n",
    "- huge storage space\n",
    "\n",
    "Efficient methods for data cube computation\n",
    "- Multiway\n",
    "    - It computes full data cube by using a multidim array as its basic structure.\n",
    "    - It uses direct array addressing, where dimension values are accesses via a position or index of their corresponding array location\n",
    "    - Hence, its difficult to perform any value-based reordering as an optimization technique.\n",
    "    - Solution- to partition the array into chunks. A **chunk** is a subcube that is small enough to fit into the memory available for cube computation\n",
    "    - ChunkID+offset can be used as a cell-addressing mechanism and also to compress sparse arrays\n",
    "    - This chunking technique involves “overlapping” some of the aggregation computations; therefore, it is referred to as multiway array aggregation. It performs simultaneous aggregation, that is, it computes aggregations simultaneously on multiple dimensions.\n",
    "    - Some of the aggregation is done in parallel. For e.g. when a 3d chuck is being scanned, all its associated 2d chuckes are computed. For e.g. when $a_0b_0c_0$ is being scanned, 2d chunks $a_0b_0$, $b_0c_0$, $a_0c_0$ are computed\n",
    "    - MultiWay is most effective when the product of the cardinalities of dimensions is moderate and the data are not too sparse. When the dimensionality is high or the data are very sparse, the in-memory arrays become too large to fit in memory, and this method becomes infeasible.\n",
    "    - MultiWay is not good for computing Iceberg cube since multiway goes bottom up while Apiori property states that if a cell doesn't satisfy the minimum support, neither will its descendant do and hence iceberg goes top down which cannot be achieved using MultiWay\n",
    "\n",
    "- BUC (Bottom-up construction)\n",
    "    - BUC is an algorithm for the computation of sparse and iceberg cubes.\n",
    "    - \n",
    "- Star Cubing\n",
    "    - It integrates top-down and bottom-up cube computation and explores both multi dimensional aggregation(similar to Multiway) and Apriori like pruning(similar to BUC) \n",
    "    - It operates from a data structure called a **Star Tree** which performs lossless data compression, there by reducing the computation time and memory requirements\n",
    "    - **Shared dimensions**: \n",
    "\n",
    "- Shell fragment\n",
    "\n"
   ]
  },
  {
   "cell_type": "code",
   "execution_count": 1,
   "metadata": {},
   "outputs": [],
   "source": [
    "import xmltodict"
   ]
  },
  {
   "cell_type": "markdown",
   "metadata": {},
   "source": [
    "### Post Edited Text"
   ]
  },
  {
   "cell_type": "code",
   "execution_count": null,
   "metadata": {},
   "outputs": [],
   "source": [
    "with open('PE_EN-PT.xml',encoding='utf-8') as fd:\n",
    "    doc = xmltodict.parse(fd.read(),encoding='utf-8')"
   ]
  },
  {
   "cell_type": "code",
   "execution_count": null,
   "metadata": {},
   "outputs": [],
   "source": [
    "records = doc['QualitivityProfessional']['Client']['Project']['Activity']['Document']['Record']"
   ]
  },
  {
   "cell_type": "code",
   "execution_count": null,
   "metadata": {},
   "outputs": [],
   "source": [
    "dict(records[0]['contentText'])['source']"
   ]
  },
  {
   "cell_type": "code",
   "execution_count": null,
   "metadata": {},
   "outputs": [],
   "source": [
    "keystrokes = dict(records[0]['keyStrokes'])['ks']"
   ]
  },
  {
   "cell_type": "code",
   "execution_count": null,
   "metadata": {},
   "outputs": [],
   "source": [
    "keystrokes"
   ]
  },
  {
   "cell_type": "code",
   "execution_count": null,
   "metadata": {},
   "outputs": [],
   "source": [
    "def extractTargetText(xmlDoc):\n",
    "    records = xmlDoc['QualitivityProfessional']['Client']['Project']['Activity']['Document']['Record']\n",
    "    for record in records:\n",
    "        source = record['contentText']['source']\n",
    "        targetOriginal = record['contentText']['targetOriginal']\n",
    "        targetUpdated = record['contentText']['targetUpdated']\n",
    "        keystrokes = record['keyStrokes']['ks']\n",
    "        #print(keystrokes)\n",
    "        print(targetUpdated,end='\\n\\n')\n",
    "        constructTargetText(keystrokes)\n",
    "        break\n",
    "        \n",
    "    \n",
    "def constructTargetText(keystrokes):\n",
    "    special_keys = ['[Back]','[Space]']\n",
    "    for ks in keystrokes:\n",
    "        system = ks.get('@system')\n",
    "        if system:\n",
    "            \n",
    "            global original_text \n",
    "            original_text = ks.get('@text')\n",
    "            break\n",
    "    print(f\"Original Text = {original_text}\")\n",
    "    \n",
    "    orig_text = [w for w in original_text]\n",
    "    #print(''.join(orig_text))\n",
    "    print(len(orig_text))\n",
    "    for ks in keystrokes:\n",
    "        text = ks.get('@text')\n",
    "        key = ks.get('@key')\n",
    "        position = ks.get('@position')\n",
    "        pos = int(position)\n",
    "        created = ks.get('@created')\n",
    "        selection = ks.get('@selection')\n",
    "        system = ks.get('@system')\n",
    "        if system:\n",
    "            continue\n",
    "        print(f\"At {position}  character ---> '{orig_text[pos]}' ---> text: '{text}' ----> key pressed: '{key}' ---> selection: '{selection}'\")\n",
    "        if selection:\n",
    "            temp = handle_selection(orig_text, selection, pos, text, key)\n",
    "            orig_text = temp\n",
    "        elif key == '[BACK]':\n",
    "            print(\"inside [BACK]\")\n",
    "            #pass\n",
    "        else:\n",
    "            print(\"Inside else\")\n",
    "            if len(text) > 1:\n",
    "                for i,c in enumerate(text):\n",
    "                    orig_text.insert(pos+i,c)\n",
    "            else:\n",
    "                orig_text.insert(pos,text)\n",
    "            print(''.join(orig_text))\n",
    "        \n",
    "        \n",
    "def handle_selection(temp, selection, position, text, key):\n",
    "    print(\"inside handle_selection\")\n",
    "   # position = int(position)\n",
    "    #print(''.join(temp))\n",
    "    start = position - len(selection)\n",
    "    #print(start)\n",
    "    remove_index = [i for i in range(start,position)]\n",
    "    print(f\"index to remove----> {remove_index}\")\n",
    "    #delete the characters\n",
    "    print(f\"'{''.join(temp[start:position])}'\")\n",
    "    print(selection)\n",
    "    del(temp[start:position])\n",
    "    #start = start+1\n",
    "    if key == '[Space]':\n",
    "        temp.insert(start,' ')\n",
    "    #elif key == '[Back]':\n",
    "        # Do nothing as its already deleted above\n",
    "        #pass\n",
    "    else:\n",
    "        #print(f\"length of text = {len(text)}\")\n",
    "        # if text field is non empty\n",
    "        text = text.rstrip()\n",
    "        if text:\n",
    "            for i,c in enumerate(text):\n",
    "                temp.insert(start+i,c)\n",
    "           \n",
    "    print(''.join(temp))\n",
    "    \n",
    "    return temp"
   ]
  },
  {
   "cell_type": "code",
   "execution_count": null,
   "metadata": {},
   "outputs": [],
   "source": [
    "extractTargetText(doc)"
   ]
  },
  {
   "cell_type": "code",
   "execution_count": null,
   "metadata": {},
   "outputs": [],
   "source": [
    "x = 'axx '"
   ]
  },
  {
   "cell_type": "code",
   "execution_count": null,
   "metadata": {},
   "outputs": [],
   "source": [
    "x.rstrip()"
   ]
  },
  {
   "cell_type": "code",
   "execution_count": 316,
   "metadata": {},
   "outputs": [],
   "source": [
    "x = []"
   ]
  },
  {
   "cell_type": "code",
   "execution_count": 317,
   "metadata": {},
   "outputs": [],
   "source": [
    "x.insert(1,1)"
   ]
  },
  {
   "cell_type": "code",
   "execution_count": 318,
   "metadata": {},
   "outputs": [
    {
     "data": {
      "text/plain": [
       "[1]"
      ]
     },
     "execution_count": 318,
     "metadata": {},
     "output_type": "execute_result"
    }
   ],
   "source": [
    "x"
   ]
  },
  {
   "cell_type": "code",
   "execution_count": null,
   "metadata": {},
   "outputs": [],
   "source": [
    "Críticas crescem sobre o fatrdoehnson patrerohnson para discursi scursos políticos\n",
    "Críticas crescem sobre o fato de Johnson ter usado a polícia por para discursos políticos"
   ]
  },
  {
   "cell_type": "markdown",
   "metadata": {},
   "source": [
    "### Translated Text"
   ]
  },
  {
   "cell_type": "code",
   "execution_count": null,
   "metadata": {},
   "outputs": [],
   "source": [
    "with open('Translation_PT-EN.xml',encoding='utf-8') as fd:\n",
    "    translated_doc = xmltodict.parse(fd.read(),encoding='utf-8')"
   ]
  },
  {
   "cell_type": "markdown",
   "metadata": {},
   "source": [
    "- while inserting, it starts inserting at index = 1\n",
    "- that means if we enter [how], h=1, o=2, w=3, but it actually gets stored at h=0, w=1, w=2\n",
    "- while deleting, it deletes at the actual index\n",
    "- suppose it wants to delete w, it will do so at index=2, rather than 3"
   ]
  },
  {
   "cell_type": "code",
   "execution_count": 247,
   "metadata": {},
   "outputs": [],
   "source": [
    "def extractTargetText1(xmlDoc,record_number=5):\n",
    "    records = xmlDoc['QualitivityProfessional']['Client']['Project']['Activity']['Document']['Record']\n",
    "    #for record in records:\n",
    "    record = records[record_number]\n",
    "    source = record['contentText']['source']\n",
    "    targetOriginal = record['contentText']['targetOriginal']\n",
    "    targetUpdated = record['contentText']['targetUpdated']\n",
    "    keystrokes = record['keyStrokes']['ks']\n",
    "    #print(keystrokes)\n",
    "    print(targetUpdated,end='\\n\\n')\n",
    "    extractedText = constructTargetText1(keystrokes, targetOriginal)\n",
    "    return extractedText,targetUpdated\n",
    "        \n",
    "    \n",
    "def constructTargetText1(keystrokes, targetOriginal):\n",
    "    special_keys = ['[Back]','[Space]']\n",
    "    \n",
    "    if targetOriginal:\n",
    "        orig_text = [i for i in targetOriginal]\n",
    "    else:\n",
    "        orig_text = []\n",
    "    \n",
    "    print(len(orig_text))\n",
    "   \n",
    "    for ks in keystrokes:\n",
    "        text = ks.get('@text')\n",
    "        key = ks.get('@key')\n",
    "        position = ks.get('@position')\n",
    "        pos = int(position)\n",
    "        created = ks.get('@created')\n",
    "        selection = ks.get('@selection')\n",
    "        system = ks.get('@system')\n",
    "        if orig_text:\n",
    "            print(f\"\\n[DEBUG] At {position}  ---> text: '{text}' ----> key pressed: '{key}' ---> selection: '{selection}'\")\n",
    "        if selection:\n",
    "            temp = handle_selection1(orig_text, selection, pos, text, key)\n",
    "            orig_text = temp\n",
    "        elif key == '[BACK]':\n",
    "            print(\"[DEBUG] Delete text\")\n",
    "            #pass\n",
    "        else:\n",
    "            print(\"[DEBUG] Insert Text\")\n",
    "            if len(text) > 1:\n",
    "                for i,c in enumerate(text):\n",
    "                    orig_text.insert(pos+i,c)\n",
    "            else:\n",
    "                orig_text.insert(pos,text)\n",
    "            updated_text = ''.join(orig_text)\n",
    "            print(f\"'{updated_text}'\")\n",
    "    return orig_text\n",
    "        \n",
    "def handle_selection1(temp, selection, position, text, key):\n",
    "    print(\"[DEBUG] Select and Modify text\")\n",
    "   # position = int(position)\n",
    "    #print(''.join(temp))\n",
    "    if len(selection) == 1:\n",
    "        #if key == '[Back]':\n",
    "        start = position - len(selection)+1\n",
    "        end = position+1\n",
    "        remove_index = [i for i in range(start,end)]\n",
    "        print(f\"[DEBUG] index to remove----> {remove_index}\")\n",
    "        #delete the characters\n",
    "        to_delete = ''.join(temp[start:end])\n",
    "        print(f\"[DEBUG] To delete: '{to_delete}'\")\n",
    "        print(f\"[DEBUG] Selection: '{selection}'\")\n",
    "        if to_delete != selection:\n",
    "            print(f\"[ERROR] Selection string doesn't match to_delete string!!!\")\n",
    "        del(temp[start:end])\n",
    "        #else:\n",
    "            \n",
    "    elif len(selection) > 1:\n",
    "        if key == '[Back]':\n",
    "            start = position - 1 + 1\n",
    "            end = start+len(selection)+1\n",
    "        else:\n",
    "              # creates problem in record 5\n",
    "              \n",
    "            start = position - 1\n",
    "            # +1 deletes an extra\n",
    "            end = start+len(selection)\n",
    "        remove_index = [i for i in range(start, end)]\n",
    "        print(f\"[DEBUG] index to remove----> {remove_index}\")\n",
    "        #delete the characters\n",
    "        to_delete = ''.join(temp[start:end])\n",
    "        print(f\"[DEBUG] To delete multiple: '{to_delete}'\")\n",
    "        print(f\"[DEBUG] Multiple Selection: '{selection}'\")\n",
    "        if to_delete != selection:\n",
    "              print(f\"[ERROR] Selection string doesn't match to_delete string!!!\")\n",
    "        del(temp[start:end])\n",
    "    #start = start+1\n",
    "    if key == '[Space]':\n",
    "        temp.insert(start,' ')\n",
    "    #elif key == '[Back]':\n",
    "        # Do nothing as its already deleted above\n",
    "        #pass\n",
    "    else:\n",
    "        #print(f\"length of text = {len(text)}\")\n",
    "        # if text field is non empty\n",
    "        #text = text.rstrip()\n",
    "        if text:\n",
    "            for i,c in enumerate(text):\n",
    "                temp.insert(start+i,c)\n",
    "           \n",
    "    print(''.join(temp))\n",
    "    \n",
    "    return temp\n"
   ]
  },
  {
   "cell_type": "code",
   "execution_count": 141,
   "metadata": {},
   "outputs": [
    {
     "name": "stdout",
     "output_type": "stream",
     "text": [
      "The effects of the hurricane have already been felt in the South East of the United States, with gales and torrential rain on Thursday (5) after the hurricane had already devastated the north of the Bahamas islands, where it left 30 dead and thousands homeless.\n",
      "The effects of the hurricane have already been felt in the SoutheE st of the United States, with gales and torrential rain on Thursday (5) after the hurricane had already devastated the north of the Bahamas islands, where it left 30 dead and thousands homeless.\n"
     ]
    }
   ],
   "source": [
    "print(targetUpdated)\n",
    "print(''.join(extractedText))"
   ]
  },
  {
   "cell_type": "code",
   "execution_count": 110,
   "metadata": {},
   "outputs": [],
   "source": [
    "records = translated_doc['QualitivityProfessional']['Client']['Project']['Activity']['Document']['Record']"
   ]
  },
  {
   "cell_type": "code",
   "execution_count": 313,
   "metadata": {},
   "outputs": [],
   "source": [
    "aa = [0,1,2,3,4,5]"
   ]
  },
  {
   "cell_type": "code",
   "execution_count": 314,
   "metadata": {},
   "outputs": [],
   "source": [
    "aa.insert(3,55)"
   ]
  },
  {
   "cell_type": "code",
   "execution_count": 315,
   "metadata": {},
   "outputs": [
    {
     "data": {
      "text/plain": [
       "[0, 1, 2, 55, 3, 4, 5]"
      ]
     },
     "execution_count": 315,
     "metadata": {},
     "output_type": "execute_result"
    }
   ],
   "source": [
    "aa"
   ]
  },
  {
   "cell_type": "code",
   "execution_count": 285,
   "metadata": {},
   "outputs": [],
   "source": [
    "del(aa[1:3])"
   ]
  },
  {
   "cell_type": "code",
   "execution_count": 286,
   "metadata": {},
   "outputs": [
    {
     "data": {
      "text/plain": [
       "[0, 3, 4, 5]"
      ]
     },
     "execution_count": 286,
     "metadata": {},
     "output_type": "execute_result"
    }
   ],
   "source": [
    "aa"
   ]
  },
  {
   "cell_type": "code",
   "execution_count": 288,
   "metadata": {},
   "outputs": [
    {
     "data": {
      "text/plain": [
       "[1, 2]"
      ]
     },
     "execution_count": 288,
     "metadata": {},
     "output_type": "execute_result"
    }
   ],
   "source": [
    "[i for i in range(1,3)]"
   ]
  },
  {
   "cell_type": "code",
   "execution_count": 311,
   "metadata": {},
   "outputs": [],
   "source": [
    "import datetime\n",
    "from dateutil.parser import parse\n",
    "\n",
    "def captureKeystrokes(source_xml, record_number=2, debug=False):\n",
    "    # To store the keystores for Translog\n",
    "    captured_keystrokes = []\n",
    "    # To store the previous timestamp of each keystroke\n",
    "    first_ts = 0.0\n",
    "    \n",
    "    records = source_xml['QualitivityProfessional']['Client']['Project']['Activity']['Document']['Record']\n",
    "    #for record in records:\n",
    "    record = records[record_number]\n",
    "    source = record['contentText']['source']\n",
    "    targetOriginal = record['contentText']['targetOriginal']\n",
    "    targetUpdated = record['contentText']['targetUpdated']\n",
    "    keystrokes = record['keyStrokes']['ks']\n",
    "    \n",
    "    # orig_text keeps the track of the reconstructed text so far\n",
    "    if targetOriginal:\n",
    "        orig_text = [i for i in targetOriginal]\n",
    "    else:\n",
    "        orig_text = []\n",
    "    \n",
    "    for count, ks in enumerate(keystrokes):\n",
    "        text = ks.get('@text')\n",
    "        key = ks.get('@key')\n",
    "        position = ks.get('@position')\n",
    "        pos = int(position)\n",
    "        created = ks.get('@created')\n",
    "        selection = ks.get('@selection')\n",
    "        system = ks.get('@system')\n",
    "        \n",
    "        tt = parse(created)\n",
    "        tt = tt.timestamp()\n",
    "        if count == 0:\n",
    "            first_ts = tt\n",
    "            tt = 0\n",
    "        else:\n",
    "            tt = tt - first_ts\n",
    "        # convert tt into miliseconds\n",
    "        tt = int(tt*1000)\n",
    "        \n",
    "        if selection:\n",
    "            print(\"[DEBUG] Handling selection(first delete and then insert) characters\")\n",
    "            orig_text, ks_list = extractSelectionKeystrokes(orig_text, pos, text, key, tt, selection)\n",
    "            #curr_updated_text = ''.join(orig_text)\n",
    "            #print(f\"[DEBUG] Current Text = '{curr_updated_text}'\")\n",
    "            for ks in ks_list:\n",
    "                captured_keystrokes.append(ks)\n",
    "        else:\n",
    "            opType = ''\n",
    "            if key == '[Back]':\n",
    "                del(orig_text[pos])\n",
    "                curr_updated_text = ''.join(orig_text)\n",
    "                if debug:\n",
    "                    print(\"[DEBUG] Deleting characters\")\n",
    "                    print(f\"[DEBUG] Current Text = '{curr_updated_text}'\")\n",
    "                opType = \"delete\"\n",
    "            else:\n",
    "                for index,char in enumerate(text):\n",
    "                    orig_text.insert(pos+index, char)\n",
    "                curr_updated_text = ''.join(orig_text)\n",
    "                if debug:\n",
    "                    print(\"[DEBUG] Inserting characters\")\n",
    "                    print(f\"[DEBUG] Current Text = '{curr_updated_text}'\")\n",
    "                \n",
    "                opType = \"insert\"\n",
    "        \n",
    "            target_ks = {'time': str(tt), 'cursor': position, 'type': opType, 'value': text}\n",
    "            captured_keystrokes.append(target_ks)\n",
    "    print(f\"[INFO] Original Text: {''.join(orig_text)}\")\n",
    "        \n",
    "    return source, targetUpdated, captured_keystrokes\n",
    "    \n",
    "def extractSelectionKeystrokes(orig_text, position, text, key, time, selection):\n",
    "    curr_updated_text = ''.join(orig_text)\n",
    "    print(f\"[DEBUG] Current Text before updating = '{curr_updated_text}'\")\n",
    "    ks_list = []\n",
    "    if(len(selection) == 1):\n",
    "        start = position\n",
    "        print(f\"\\t[DEBUG]Single: key = {key} : character at position: {start} is '{orig_text[start]}', selection = '{selection}'\")\n",
    "        if selection == orig_text[start]:\n",
    "            print(f\"\\t\\t[DEBUG] Deleting '{orig_text[start]}'\")\n",
    "            del(orig_text[start])\n",
    "        elif selection == orig_text[start-1]:\n",
    "            print(f\"\\t\\t[DEBUG] Deleting '{orig_text[start-1]}'\")\n",
    "            del(orig_text[start-1])\n",
    "        else:\n",
    "            print(\"[ERROR] selection not found\")\n",
    "    else:\n",
    "        \n",
    "        if key == '[Back]':\n",
    "            start = position\n",
    "            end = start + len(selection) + 1\n",
    "        else:\n",
    "            start = position - 1\n",
    "            # +1 deletes an extra\n",
    "            end = start + len(selection)\n",
    "        print(f\"\\t[DEBUG]Multiple: key = {key} : characters around position {position}({orig_text[position]}): '{''.join(orig_text[position-2:position+1])}'\")    \n",
    "        remove_index = [i for i in range(start, end)]\n",
    "        print(f\"[DEBUG] index to remove: {remove_index}\")\n",
    "        #delete the characters\n",
    "        to_delete = ''.join(orig_text[start:end])\n",
    "        print(f\"[DEBUG] To delete multiple: '{to_delete}'\")\n",
    "        print(f\"[DEBUG] Multiple Selection: '{selection}'\")\n",
    "        if to_delete != selection:\n",
    "              print(f\"[ERROR] Selection string doesn't match to_delete string!!!\")\n",
    "        del(orig_text[start:end])\n",
    "    \n",
    "    target_ks = {'time': str(time), 'cursor': start, 'type': \"delete\", 'value': selection}\n",
    "    ks_list.append(target_ks)\n",
    "    \n",
    "    # Insert the characters in the text field\n",
    "    \n",
    "    if key == '[Space]':\n",
    "        orig_text.insert(start,' ')\n",
    "        target_ks = {'time': str(time), 'cursor': start, 'type': \"insert\", 'value': ' '}\n",
    "        ks_list.append(target_ks)\n",
    "    else:\n",
    "        \n",
    "        if text:\n",
    "            for i,c in enumerate(text):\n",
    "                orig_text.insert(start+i,c)\n",
    "            target_ks = {'time': str(time), 'cursor': start, 'type': \"insert\", 'value': text}\n",
    "            ks_list.append(target_ks)\n",
    "\n",
    "    return orig_text, ks_list\n",
    "\n",
    "\n",
    "def addKeystrokes(keystrokes, target_xml, debug=False):\n",
    "    if not isinstance(target_xml, OrderedDict):\n",
    "        print(\"[ERROR] Enter a valid xml file\")\n",
    "        return\n",
    "    if not keystrokes:\n",
    "        print(\"[ERROR] No keystores to add\")\n",
    "        return\n",
    "    if target_xml.get('LogFile').get('Events'):\n",
    "        target_xml['LogFile']['Events']['Key'] = []\n",
    "    else:\n",
    "        target_xml['LogFile']['Events'] = OrderedDict()\n",
    "        target_xml['LogFile']['Events']['Key'] = []\n",
    "        \n",
    "    keys = target_xml['LogFile']['Events']['Key']\n",
    "    for ks in keystrokes:\n",
    "        keys.append(addKsToDict(ks))\n",
    "    \n",
    "    target_xml['LogFile']['Events']['Key'] = keys\n",
    "    \n",
    "    return target_xml\n",
    "\n",
    "def addSourceText(sourceText, target_xml):\n",
    "    target_xml['LogFile']['Project']['Interface']['Standard']['Settings']['SourceText'] = sourceText\n",
    "    return target_xml\n",
    "\n",
    "def addTargetText(targetText, target_xml):\n",
    "    target_xml['LogFile']['Project']['Interface']['Standard']['Settings']['TargetText'] = targetText\n",
    "    return target_xml\n",
    "    \n",
    "from collections import OrderedDict\n",
    "\n",
    "def addKsToDict(keystrokes_dic):\n",
    "    new_dict = {'@Time': keystrokes_dic.get('time'), '@Cursor': keystrokes_dic.get('cursor'), '@Type': keystrokes_dic.get('type'), '@Value': keystrokes_dic.get('value')}\n",
    "    return OrderedDict(new_dict)"
   ]
  },
  {
   "cell_type": "markdown",
   "metadata": {},
   "source": [
    "### Capture keystrokes from Qualitifity source xml file"
   ]
  },
  {
   "cell_type": "code",
   "execution_count": 312,
   "metadata": {},
   "outputs": [
    {
     "name": "stdout",
     "output_type": "stream",
     "text": [
      "[DEBUG] Handling selection(first delete and then insert) characters\n",
      "[DEBUG] Current Text before updating = 'The effects of the hurricane have be'\n",
      "\t[DEBUG]Single: key = [Back] : character at position: 35 is 'e', selection = 'e'\n",
      "\t\t[DEBUG] Deleting 'e'\n",
      "[DEBUG] Handling selection(first delete and then insert) characters\n",
      "[DEBUG] Current Text before updating = 'The effects of the hurricane have b'\n",
      "\t[DEBUG]Single: key = [Back] : character at position: 34 is 'b', selection = 'b'\n",
      "\t\t[DEBUG] Deleting 'b'\n",
      "[DEBUG] Handling selection(first delete and then insert) characters\n",
      "[DEBUG] Current Text before updating = 'The effects of the hurricane have alreasdy b'\n",
      "\t[DEBUG]Single: key = [Back] : character at position: 43 is 'b', selection = 'b'\n",
      "\t\t[DEBUG] Deleting 'b'\n",
      "[DEBUG] Handling selection(first delete and then insert) characters\n",
      "[DEBUG] Current Text before updating = 'The effects of the hurricane have alreasdy '\n",
      "\t[DEBUG]Single: key = [Back] : character at position: 42 is ' ', selection = ' '\n",
      "\t\t[DEBUG] Deleting ' '\n",
      "[DEBUG] Handling selection(first delete and then insert) characters\n",
      "[DEBUG] Current Text before updating = 'The effects of the hurricane have alreasdy'\n",
      "\t[DEBUG]Single: key = [Back] : character at position: 41 is 'y', selection = 'y'\n",
      "\t\t[DEBUG] Deleting 'y'\n",
      "[DEBUG] Handling selection(first delete and then insert) characters\n",
      "[DEBUG] Current Text before updating = 'The effects of the hurricane have alreasd'\n",
      "\t[DEBUG]Single: key = [Back] : character at position: 40 is 'd', selection = 'd'\n",
      "\t\t[DEBUG] Deleting 'd'\n",
      "[DEBUG] Handling selection(first delete and then insert) characters\n",
      "[DEBUG] Current Text before updating = 'The effects of the hurricane have alreas'\n",
      "\t[DEBUG]Single: key = [Back] : character at position: 39 is 's', selection = 's'\n",
      "\t\t[DEBUG] Deleting 's'\n",
      "[DEBUG] Handling selection(first delete and then insert) characters\n",
      "[DEBUG] Current Text before updating = 'The effects of the hurricane have already been felt in the Southea st of the United States, with gales and torrential rain on Thursday (5), '\n",
      "\t[DEBUG]Single: key = [Back] : character at position: 65 is 'a', selection = 'e'\n",
      "\t\t[DEBUG] Deleting 'e'\n",
      "[DEBUG] Handling selection(first delete and then insert) characters\n",
      "[DEBUG] Current Text before updating = 'The effects of the hurricane have already been felt in the SouthaE st of the United States, with gales and torrential rain on Thursday (5), '\n",
      "\t[DEBUG]Single: key = [Back] : character at position: 139 is ' ', selection = ' '\n",
      "\t\t[DEBUG] Deleting ' '\n",
      "[DEBUG] Handling selection(first delete and then insert) characters\n",
      "[DEBUG] Current Text before updating = 'The effects of the hurricane have already been felt in the SouthaE st of the United States, with gales and torrential rain on Thursday (5),'\n",
      "\t[DEBUG]Single: key = [Back] : character at position: 138 is ',', selection = ','\n",
      "\t\t[DEBUG] Deleting ','\n",
      "[DEBUG] Handling selection(first delete and then insert) characters\n",
      "[DEBUG] Current Text before updating = 'The effects of the hurricane have already been felt in the SouthaE st of the United States, with gales and torrential rain on Thursday (5) after the hurricane a'\n",
      "\t[DEBUG]Single: key = [Back] : character at position: 159 is 'a', selection = 'a'\n",
      "\t\t[DEBUG] Deleting 'a'\n",
      "[DEBUG] Handling selection(first delete and then insert) characters\n",
      "[DEBUG] Current Text before updating = 'The effects of the hurricane have already been felt in the SouthaE st of the United States, with gales and torrential rain on Thursday (5) after the hurricane had already devastated the north of the V'\n",
      "\t[DEBUG]Single: key = [Back] : character at position: 199 is 'V', selection = 'V'\n",
      "\t\t[DEBUG] Deleting 'V'\n",
      "[DEBUG] Handling selection(first delete and then insert) characters\n",
      "[DEBUG] Current Text before updating = 'The effects of the hurricane have already been felt in the SouthaE st of the United States, with gales and torrential rain on Thursday (5) after the hurricane had already devastated the north of the Bahams is'\n",
      "\t[DEBUG]Single: key = [Back] : character at position: 207 is 's', selection = 's'\n",
      "\t\t[DEBUG] Deleting 's'\n",
      "[DEBUG] Handling selection(first delete and then insert) characters\n",
      "[DEBUG] Current Text before updating = 'The effects of the hurricane have already been felt in the SouthaE st of the United States, with gales and torrential rain on Thursday (5) after the hurricane had already devastated the north of the Bahams islands '\n",
      "\t[DEBUG]Single: key = [Back] : character at position: 213 is ' ', selection = ' '\n",
      "\t\t[DEBUG] Deleting ' '\n",
      "[DEBUG] Handling selection(first delete and then insert) characters\n",
      "[DEBUG] Current Text before updating = 'The effects of the hurricane have already been felt in the SouthaE st of the United States, with gales and torrential rain on Thursday (5) after the hurricane had already devastated the north of the Bahamas islands, where it caused at least 30 deaths '\n",
      "\t[DEBUG]Multiple: key = L : characters around position 226(a): ' ca'\n",
      "[DEBUG] index to remove: [225, 226, 227, 228, 229, 230, 231, 232, 233, 234, 235, 236, 237, 238, 239, 240, 241, 242, 243, 244, 245, 246, 247, 248, 249, 250]\n",
      "[DEBUG] To delete multiple: 'caused at least 30 deaths '\n",
      "[DEBUG] Multiple Selection: 'caused at least 30 deaths '\n",
      "[INFO] Original Text: The effects of the hurricane have already been felt in the SouthaE st of the United States, with gales and torrential rain on Thursday (5) after the hurricane had already devastated the north of the Bahamas islands, where it left 30 dead and thousands homeless.\n"
     ]
    }
   ],
   "source": [
    "extractedText, targetUpdated, captured_keystrokes = captureKeystrokes(translated_doc,4)"
   ]
  },
  {
   "cell_type": "markdown",
   "metadata": {},
   "source": [
    "### Open a Translog xml template file"
   ]
  },
  {
   "cell_type": "code",
   "execution_count": 268,
   "metadata": {},
   "outputs": [],
   "source": [
    "with open('translog_template.xml',encoding='utf-8') as fd:\n",
    "    target_xml = xmltodict.parse(fd.read(),encoding='utf-8')"
   ]
  },
  {
   "cell_type": "code",
   "execution_count": 269,
   "metadata": {},
   "outputs": [],
   "source": [
    "updated_xml = addKeystrokes(captured_keystrokes, target_xml)\n",
    "#updated_xml = addSourceText(extractedText, target_xml)\n",
    "updated_xml = addTargetText(targetUpdated, target_xml)"
   ]
  },
  {
   "cell_type": "code",
   "execution_count": 270,
   "metadata": {},
   "outputs": [],
   "source": [
    "new_xml = xmltodict.unparse(updated_xml)"
   ]
  },
  {
   "cell_type": "markdown",
   "metadata": {},
   "source": [
    "### Save target File"
   ]
  },
  {
   "cell_type": "code",
   "execution_count": 271,
   "metadata": {},
   "outputs": [],
   "source": [
    "f = open('translog_template_new.xml','w')\n",
    "f.write(new_xml)\n",
    "f.close()"
   ]
  },
  {
   "cell_type": "code",
   "execution_count": 234,
   "metadata": {},
   "outputs": [],
   "source": [
    "\n",
    "\n",
    "def createOrderedDict(time='',k_type='',value=''):\n",
    "    keystrokes_dic = {'@Time': time, '@Type': k_type, '@Value': value}\n",
    "    return OrderedDict(keystrokes_dic)\n",
    "    "
   ]
  },
  {
   "cell_type": "code",
   "execution_count": 164,
   "metadata": {},
   "outputs": [
    {
     "data": {
      "text/plain": [
       "[OrderedDict([('@Time', '53250'),\n",
       "              ('@Cursor', '0'),\n",
       "              ('@X', '3'),\n",
       "              ('@Y', '510'),\n",
       "              ('@Width', '20'),\n",
       "              ('@Height', '30'),\n",
       "              ('@Type', 'insert'),\n",
       "              ('@Value', 'S')]),\n",
       " OrderedDict([('@Time', '53859'),\n",
       "              ('@Cursor', '1'),\n",
       "              ('@X', '16'),\n",
       "              ('@Y', '510'),\n",
       "              ('@Width', '20'),\n",
       "              ('@Height', '30'),\n",
       "              ('@Type', 'insert'),\n",
       "              ('@Value', 'p')]),\n",
       " OrderedDict([('@Time', '719281'),\n",
       "              ('@Cursor', '875'),\n",
       "              ('@X', '927'),\n",
       "              ('@Y', '804'),\n",
       "              ('@Width', '20'),\n",
       "              ('@Height', '30'),\n",
       "              ('@Type', 'insert'),\n",
       "              ('@Value', 'o')]),\n",
       " OrderedDict([('@Time', '719547'),\n",
       "              ('@Cursor', '876'),\n",
       "              ('@X', '939'),\n",
       "              ('@Y', '804'),\n",
       "              ('@Width', '14'),\n",
       "              ('@Height', '30'),\n",
       "              ('@Type', 'insert'),\n",
       "              ('@Value', '.')]),\n",
       " OrderedDict([('@Time', '731016'),\n",
       "              ('@Cursor', '20'),\n",
       "              ('@Type', 'navi'),\n",
       "              ('@Value', '[Left]')]),\n",
       " OrderedDict([('@Time', '731766'),\n",
       "              ('@Cursor', '19'),\n",
       "              ('@Text', 'a'),\n",
       "              ('@Type', 'delete'),\n",
       "              ('@Value', '[Back]')]),\n",
       " OrderedDict([('@Time', '731922'),\n",
       "              ('@Cursor', '18'),\n",
       "              ('@Text', 'r'),\n",
       "              ('@Type', 'delete'),\n",
       "              ('@Value', '[Back]')]),\n",
       " OrderedDict([('@Time', '1'),\n",
       "              ('@Cursor', '1'),\n",
       "              ('@X', '1'),\n",
       "              ('@Y', '1'),\n",
       "              ('@Width', '1'),\n",
       "              ('@Height', '1'),\n",
       "              ('@Type', 'insert'),\n",
       "              ('@Value', 'w')])]"
      ]
     },
     "execution_count": 164,
     "metadata": {},
     "output_type": "execute_result"
    }
   ],
   "source": [
    "keys"
   ]
  }
 ],
 "metadata": {
  "kernelspec": {
   "display_name": "Python 3",
   "language": "python",
   "name": "python3"
  },
  "language_info": {
   "codemirror_mode": {
    "name": "ipython",
    "version": 3
   },
   "file_extension": ".py",
   "mimetype": "text/x-python",
   "name": "python",
   "nbconvert_exporter": "python",
   "pygments_lexer": "ipython3",
   "version": "3.7.3"
  },
  "latex_envs": {
   "LaTeX_envs_menu_present": true,
   "autoclose": false,
   "autocomplete": true,
   "bibliofile": "biblio.bib",
   "cite_by": "apalike",
   "current_citInitial": 1,
   "eqLabelWithNumbers": true,
   "eqNumInitial": 1,
   "hotkeys": {
    "equation": "Ctrl-E",
    "itemize": "Ctrl-I"
   },
   "labels_anchors": false,
   "latex_user_defs": false,
   "report_style_numbering": false,
   "user_envs_cfg": false
  }
 },
 "nbformat": 4,
 "nbformat_minor": 2
}

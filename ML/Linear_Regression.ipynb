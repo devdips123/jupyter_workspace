{
 "cells": [
  {
   "cell_type": "code",
   "execution_count": 1,
   "metadata": {},
   "outputs": [],
   "source": [
    "import pandas as pd\n",
    "import numpy as np"
   ]
  },
  {
   "cell_type": "code",
   "execution_count": 2,
   "metadata": {},
   "outputs": [],
   "source": [
    "df = pd.read_csv(\"AmesHousing.txt\",sep=\"\\t\")"
   ]
  },
  {
   "cell_type": "code",
   "execution_count": 6,
   "metadata": {},
   "outputs": [
    {
     "name": "stdout",
     "output_type": "stream",
     "text": [
      "(2930, 82)\n"
     ]
    },
    {
     "data": {
      "text/html": [
       "<div>\n",
       "<style scoped>\n",
       "    .dataframe tbody tr th:only-of-type {\n",
       "        vertical-align: middle;\n",
       "    }\n",
       "\n",
       "    .dataframe tbody tr th {\n",
       "        vertical-align: top;\n",
       "    }\n",
       "\n",
       "    .dataframe thead th {\n",
       "        text-align: right;\n",
       "    }\n",
       "</style>\n",
       "<table border=\"1\" class=\"dataframe\">\n",
       "  <thead>\n",
       "    <tr style=\"text-align: right;\">\n",
       "      <th></th>\n",
       "      <th>Order</th>\n",
       "      <th>PID</th>\n",
       "      <th>MS SubClass</th>\n",
       "      <th>MS Zoning</th>\n",
       "      <th>Lot Frontage</th>\n",
       "      <th>Lot Area</th>\n",
       "      <th>Street</th>\n",
       "      <th>Alley</th>\n",
       "      <th>Lot Shape</th>\n",
       "      <th>Land Contour</th>\n",
       "      <th>...</th>\n",
       "      <th>Pool Area</th>\n",
       "      <th>Pool QC</th>\n",
       "      <th>Fence</th>\n",
       "      <th>Misc Feature</th>\n",
       "      <th>Misc Val</th>\n",
       "      <th>Mo Sold</th>\n",
       "      <th>Yr Sold</th>\n",
       "      <th>Sale Type</th>\n",
       "      <th>Sale Condition</th>\n",
       "      <th>SalePrice</th>\n",
       "    </tr>\n",
       "  </thead>\n",
       "  <tbody>\n",
       "    <tr>\n",
       "      <th>0</th>\n",
       "      <td>1</td>\n",
       "      <td>526301100</td>\n",
       "      <td>20</td>\n",
       "      <td>RL</td>\n",
       "      <td>141.0</td>\n",
       "      <td>31770</td>\n",
       "      <td>Pave</td>\n",
       "      <td>NaN</td>\n",
       "      <td>IR1</td>\n",
       "      <td>Lvl</td>\n",
       "      <td>...</td>\n",
       "      <td>0</td>\n",
       "      <td>NaN</td>\n",
       "      <td>NaN</td>\n",
       "      <td>NaN</td>\n",
       "      <td>0</td>\n",
       "      <td>5</td>\n",
       "      <td>2010</td>\n",
       "      <td>WD</td>\n",
       "      <td>Normal</td>\n",
       "      <td>215000</td>\n",
       "    </tr>\n",
       "    <tr>\n",
       "      <th>1</th>\n",
       "      <td>2</td>\n",
       "      <td>526350040</td>\n",
       "      <td>20</td>\n",
       "      <td>RH</td>\n",
       "      <td>80.0</td>\n",
       "      <td>11622</td>\n",
       "      <td>Pave</td>\n",
       "      <td>NaN</td>\n",
       "      <td>Reg</td>\n",
       "      <td>Lvl</td>\n",
       "      <td>...</td>\n",
       "      <td>0</td>\n",
       "      <td>NaN</td>\n",
       "      <td>MnPrv</td>\n",
       "      <td>NaN</td>\n",
       "      <td>0</td>\n",
       "      <td>6</td>\n",
       "      <td>2010</td>\n",
       "      <td>WD</td>\n",
       "      <td>Normal</td>\n",
       "      <td>105000</td>\n",
       "    </tr>\n",
       "    <tr>\n",
       "      <th>2</th>\n",
       "      <td>3</td>\n",
       "      <td>526351010</td>\n",
       "      <td>20</td>\n",
       "      <td>RL</td>\n",
       "      <td>81.0</td>\n",
       "      <td>14267</td>\n",
       "      <td>Pave</td>\n",
       "      <td>NaN</td>\n",
       "      <td>IR1</td>\n",
       "      <td>Lvl</td>\n",
       "      <td>...</td>\n",
       "      <td>0</td>\n",
       "      <td>NaN</td>\n",
       "      <td>NaN</td>\n",
       "      <td>Gar2</td>\n",
       "      <td>12500</td>\n",
       "      <td>6</td>\n",
       "      <td>2010</td>\n",
       "      <td>WD</td>\n",
       "      <td>Normal</td>\n",
       "      <td>172000</td>\n",
       "    </tr>\n",
       "    <tr>\n",
       "      <th>3</th>\n",
       "      <td>4</td>\n",
       "      <td>526353030</td>\n",
       "      <td>20</td>\n",
       "      <td>RL</td>\n",
       "      <td>93.0</td>\n",
       "      <td>11160</td>\n",
       "      <td>Pave</td>\n",
       "      <td>NaN</td>\n",
       "      <td>Reg</td>\n",
       "      <td>Lvl</td>\n",
       "      <td>...</td>\n",
       "      <td>0</td>\n",
       "      <td>NaN</td>\n",
       "      <td>NaN</td>\n",
       "      <td>NaN</td>\n",
       "      <td>0</td>\n",
       "      <td>4</td>\n",
       "      <td>2010</td>\n",
       "      <td>WD</td>\n",
       "      <td>Normal</td>\n",
       "      <td>244000</td>\n",
       "    </tr>\n",
       "    <tr>\n",
       "      <th>4</th>\n",
       "      <td>5</td>\n",
       "      <td>527105010</td>\n",
       "      <td>60</td>\n",
       "      <td>RL</td>\n",
       "      <td>74.0</td>\n",
       "      <td>13830</td>\n",
       "      <td>Pave</td>\n",
       "      <td>NaN</td>\n",
       "      <td>IR1</td>\n",
       "      <td>Lvl</td>\n",
       "      <td>...</td>\n",
       "      <td>0</td>\n",
       "      <td>NaN</td>\n",
       "      <td>MnPrv</td>\n",
       "      <td>NaN</td>\n",
       "      <td>0</td>\n",
       "      <td>3</td>\n",
       "      <td>2010</td>\n",
       "      <td>WD</td>\n",
       "      <td>Normal</td>\n",
       "      <td>189900</td>\n",
       "    </tr>\n",
       "  </tbody>\n",
       "</table>\n",
       "<p>5 rows × 82 columns</p>\n",
       "</div>"
      ],
      "text/plain": [
       "   Order        PID  MS SubClass MS Zoning  Lot Frontage  Lot Area Street  \\\n",
       "0      1  526301100           20        RL         141.0     31770   Pave   \n",
       "1      2  526350040           20        RH          80.0     11622   Pave   \n",
       "2      3  526351010           20        RL          81.0     14267   Pave   \n",
       "3      4  526353030           20        RL          93.0     11160   Pave   \n",
       "4      5  527105010           60        RL          74.0     13830   Pave   \n",
       "\n",
       "  Alley Lot Shape Land Contour  ... Pool Area Pool QC  Fence Misc Feature  \\\n",
       "0   NaN       IR1          Lvl  ...         0     NaN    NaN          NaN   \n",
       "1   NaN       Reg          Lvl  ...         0     NaN  MnPrv          NaN   \n",
       "2   NaN       IR1          Lvl  ...         0     NaN    NaN         Gar2   \n",
       "3   NaN       Reg          Lvl  ...         0     NaN    NaN          NaN   \n",
       "4   NaN       IR1          Lvl  ...         0     NaN  MnPrv          NaN   \n",
       "\n",
       "  Misc Val Mo Sold Yr Sold Sale Type  Sale Condition  SalePrice  \n",
       "0        0       5    2010       WD           Normal     215000  \n",
       "1        0       6    2010       WD           Normal     105000  \n",
       "2    12500       6    2010       WD           Normal     172000  \n",
       "3        0       4    2010       WD           Normal     244000  \n",
       "4        0       3    2010       WD           Normal     189900  \n",
       "\n",
       "[5 rows x 82 columns]"
      ]
     },
     "execution_count": 6,
     "metadata": {},
     "output_type": "execute_result"
    }
   ],
   "source": [
    "\n",
    "print(df.shape)\n",
    "df.head()"
   ]
  },
  {
   "cell_type": "markdown",
   "metadata": {},
   "source": [
    "#### Features Transformation\n",
    "\n",
    "- Remove columns with Null values\n",
    "- Convert String columns to Categorical\n",
    "- Convert Categorical columns to Dummy columns\n",
    "- Convert columns have Year or date to No_of_years_passed or No_of_days etc. which makes more sense to the model\n",
    "\n",
    "\n",
    "**Handling Null values in row and columns**\n",
    "\n",
    "Two approaches\n",
    "- Remove the entire row\n",
    "- Replace the null value with a descriptive statistics from the column like mean, max, min etc."
   ]
  },
  {
   "cell_type": "code",
   "execution_count": 17,
   "metadata": {},
   "outputs": [],
   "source": [
    "# Finds all the columns with no NaN values\n",
    "null_cols = df.isna().sum()\n",
    "not_null_index = null_cols[null_cols ==0].index"
   ]
  },
  {
   "cell_type": "code",
   "execution_count": 20,
   "metadata": {},
   "outputs": [],
   "source": [
    "# Creates a new df with all non-nan columns\n",
    "nndf = df[not_null_index].copy()"
   ]
  },
  {
   "cell_type": "code",
   "execution_count": 21,
   "metadata": {},
   "outputs": [
    {
     "data": {
      "text/plain": [
       "(2930, 55)"
      ]
     },
     "execution_count": 21,
     "metadata": {},
     "output_type": "execute_result"
    }
   ],
   "source": [
    "nndf.shape"
   ]
  },
  {
   "cell_type": "code",
   "execution_count": 24,
   "metadata": {},
   "outputs": [
    {
     "name": "stdout",
     "output_type": "stream",
     "text": [
      "1465\n",
      "(1465, 55)\n",
      "(1464, 55)\n"
     ]
    }
   ],
   "source": [
    "df_size = int(len(nndf)/2)\n",
    "print(df_size)\n",
    "train = nndf.iloc[:df_size]\n",
    "print(train.shape)\n",
    "test = nndf.iloc[df_size+1:]\n",
    "print(test.shape)"
   ]
  },
  {
   "cell_type": "code",
   "execution_count": 40,
   "metadata": {},
   "outputs": [],
   "source": [
    "object_cols = nndf.dtypes[nndf.dtypes == \"object\"].index"
   ]
  },
  {
   "cell_type": "code",
   "execution_count": 27,
   "metadata": {},
   "outputs": [
    {
     "data": {
      "text/plain": [
       "AllPub    1462\n",
       "NoSewr       2\n",
       "NoSeWa       1\n",
       "Name: Utilities, dtype: int64"
      ]
     },
     "execution_count": 27,
     "metadata": {},
     "output_type": "execute_result"
    }
   ],
   "source": [
    "train['Utilities'].value_counts()"
   ]
  },
  {
   "cell_type": "code",
   "execution_count": 28,
   "metadata": {},
   "outputs": [
    {
     "name": "stderr",
     "output_type": "stream",
     "text": [
      "c:\\pyvirtualenv\\ml\\lib\\site-packages\\ipykernel_launcher.py:1: SettingWithCopyWarning: \n",
      "A value is trying to be set on a copy of a slice from a DataFrame.\n",
      "Try using .loc[row_indexer,col_indexer] = value instead\n",
      "\n",
      "See the caveats in the documentation: http://pandas.pydata.org/pandas-docs/stable/user_guide/indexing.html#returning-a-view-versus-a-copy\n",
      "  \"\"\"Entry point for launching an IPython kernel.\n"
     ]
    }
   ],
   "source": [
    "# Convert string col to category\n",
    "train['Utilities'] = train['Utilities'].astype('category')"
   ]
  },
  {
   "cell_type": "code",
   "execution_count": 48,
   "metadata": {},
   "outputs": [
    {
     "data": {
      "text/plain": [
       "[AllPub, NoSewr, NoSeWa]\n",
       "Categories (3, object): [AllPub, NoSewr, NoSeWa]"
      ]
     },
     "execution_count": 48,
     "metadata": {},
     "output_type": "execute_result"
    }
   ],
   "source": [
    "# Check the column is converted to Category - with 3 categories\n",
    "train['Utilities']"
   ]
  },
  {
   "cell_type": "code",
   "execution_count": 37,
   "metadata": {},
   "outputs": [
    {
     "data": {
      "text/plain": [
       "CategoricalDtype(categories=['AllPub', 'NoSeWa', 'NoSewr'], ordered=False)"
      ]
     },
     "execution_count": 37,
     "metadata": {},
     "output_type": "execute_result"
    }
   ],
   "source": [
    "# Utilities is converted to Category\n",
    "train['Utilities'].dtypes"
   ]
  },
  {
   "cell_type": "code",
   "execution_count": 42,
   "metadata": {},
   "outputs": [
    {
     "name": "stdout",
     "output_type": "stream",
     "text": [
      "Column----------> MS Zoning \n",
      "\n",
      "\n",
      "RL         1128\n",
      "RM          232\n",
      "FV           83\n",
      "RH           11\n",
      "C (all)      10\n",
      "I (all)       1\n",
      "Name: MS Zoning, dtype: int64\n",
      "Column----------> Street \n",
      "\n",
      "\n",
      "Pave    1460\n",
      "Grvl       5\n",
      "Name: Street, dtype: int64\n",
      "Column----------> Lot Shape \n",
      "\n",
      "\n",
      "Reg    942\n",
      "IR1    480\n",
      "IR2     36\n",
      "IR3      7\n",
      "Name: Lot Shape, dtype: int64\n",
      "Column----------> Land Contour \n",
      "\n",
      "\n",
      "Lvl    1340\n",
      "Bnk      54\n",
      "HLS      45\n",
      "Low      26\n",
      "Name: Land Contour, dtype: int64\n",
      "Column----------> Utilities \n",
      "\n",
      "\n",
      "AllPub    1462\n",
      "NoSewr       2\n",
      "NoSeWa       1\n",
      "Name: Utilities, dtype: int64\n",
      "Column----------> Lot Config \n",
      "\n",
      "\n",
      "Inside     1061\n",
      "Corner      259\n",
      "CulDSac      90\n",
      "FR2          48\n",
      "FR3           7\n",
      "Name: Lot Config, dtype: int64\n",
      "Column----------> Land Slope \n",
      "\n",
      "\n",
      "Gtl    1402\n",
      "Mod      55\n",
      "Sev       8\n",
      "Name: Land Slope, dtype: int64\n",
      "Column----------> Neighborhood \n",
      "\n",
      "\n",
      "NAmes      239\n",
      "OldTown    140\n",
      "CollgCr    122\n",
      "Somerst    102\n",
      "NridgHt     91\n",
      "SawyerW     84\n",
      "Gilbert     82\n",
      "Edwards     80\n",
      "NWAmes      76\n",
      "Sawyer      76\n",
      "BrkSide     65\n",
      "Mitchel     41\n",
      "NoRidge     37\n",
      "IDOTRR      32\n",
      "Crawfor     28\n",
      "ClearCr     25\n",
      "StoneBr     24\n",
      "Timber      22\n",
      "SWISU       21\n",
      "NPkVill     17\n",
      "BrDale      16\n",
      "Blmngtn     13\n",
      "MeadowV     12\n",
      "Veenker     11\n",
      "Blueste      6\n",
      "Greens       3\n",
      "Name: Neighborhood, dtype: int64\n",
      "Column----------> Condition 1 \n",
      "\n",
      "\n",
      "Norm      1245\n",
      "Feedr       85\n",
      "Artery      55\n",
      "PosN        26\n",
      "RRAn        21\n",
      "RRAe        13\n",
      "PosA         9\n",
      "RRNn         6\n",
      "RRNe         5\n",
      "Name: Condition 1, dtype: int64\n",
      "Column----------> Condition 2 \n",
      "\n",
      "\n",
      "Norm      1447\n",
      "Feedr        8\n",
      "PosN         3\n",
      "Artery       3\n",
      "PosA         2\n",
      "RRNn         2\n",
      "Name: Condition 2, dtype: int64\n",
      "Column----------> Bldg Type \n",
      "\n",
      "\n",
      "1Fam      1216\n",
      "TwnhsE     115\n",
      "Duplex      54\n",
      "Twnhs       50\n",
      "2fmCon      30\n",
      "Name: Bldg Type, dtype: int64\n",
      "Column----------> House Style \n",
      "\n",
      "\n",
      "1Story    744\n",
      "2Story    444\n",
      "1.5Fin    160\n",
      "SLvl       60\n",
      "SFoyer     35\n",
      "2.5Unf     11\n",
      "1.5Unf      8\n",
      "2.5Fin      3\n",
      "Name: House Style, dtype: int64\n",
      "Column----------> Roof Style \n",
      "\n",
      "\n",
      "Gable      1154\n",
      "Hip         280\n",
      "Flat         12\n",
      "Gambrel      11\n",
      "Mansard       7\n",
      "Shed          1\n",
      "Name: Roof Style, dtype: int64\n",
      "Column----------> Roof Matl \n",
      "\n",
      "\n",
      "CompShg    1444\n",
      "Tar&Grv      14\n",
      "WdShake       4\n",
      "WdShngl       2\n",
      "Membran       1\n",
      "Name: Roof Matl, dtype: int64\n",
      "Column----------> Exterior 1st \n",
      "\n",
      "\n",
      "VinylSd    511\n",
      "HdBoard    234\n",
      "MetalSd    231\n",
      "Wd Sdng    203\n",
      "Plywood    116\n",
      "CemntBd     55\n",
      "BrkFace     46\n",
      "WdShing     23\n",
      "AsbShng     20\n",
      "Stucco      18\n",
      "BrkComm      4\n",
      "AsphShn      2\n",
      "PreCast      1\n",
      "CBlock       1\n",
      "Name: Exterior 1st, dtype: int64\n",
      "Column----------> Exterior 2nd \n",
      "\n",
      "\n",
      "VinylSd    502\n",
      "MetalSd    227\n",
      "HdBoard    223\n",
      "Wd Sdng    194\n",
      "Plywood    130\n",
      "CmentBd     55\n",
      "Wd Shng     42\n",
      "AsbShng     22\n",
      "BrkFace     21\n",
      "Brk Cmn     18\n",
      "Stucco      17\n",
      "ImStucc      6\n",
      "CBlock       3\n",
      "Stone        2\n",
      "AsphShn      2\n",
      "PreCast      1\n",
      "Name: Exterior 2nd, dtype: int64\n",
      "Column----------> Exter Qual \n",
      "\n",
      "\n",
      "TA    886\n",
      "Gd    493\n",
      "Ex     64\n",
      "Fa     22\n",
      "Name: Exter Qual, dtype: int64\n",
      "Column----------> Exter Cond \n",
      "\n",
      "\n",
      "TA    1268\n",
      "Gd     153\n",
      "Fa      35\n",
      "Ex       7\n",
      "Po       2\n",
      "Name: Exter Cond, dtype: int64\n",
      "Column----------> Foundation \n",
      "\n",
      "\n",
      "PConc     647\n",
      "CBlock    624\n",
      "BrkTil    161\n",
      "Slab       23\n",
      "Stone       7\n",
      "Wood        3\n",
      "Name: Foundation, dtype: int64\n",
      "Column----------> Heating \n",
      "\n",
      "\n",
      "GasA     1440\n",
      "GasW       13\n",
      "Grav        6\n",
      "Wall        3\n",
      "OthW        2\n",
      "Floor       1\n",
      "Name: Heating, dtype: int64\n",
      "Column----------> Heating QC \n",
      "\n",
      "\n",
      "Ex    750\n",
      "TA    441\n",
      "Gd    228\n",
      "Fa     46\n",
      "Name: Heating QC, dtype: int64\n",
      "Column----------> Central Air \n",
      "\n",
      "\n",
      "Y    1371\n",
      "N      94\n",
      "Name: Central Air, dtype: int64\n",
      "Column----------> Kitchen Qual \n",
      "\n",
      "\n",
      "TA    741\n",
      "Gd    580\n",
      "Ex    112\n",
      "Fa     31\n",
      "Po      1\n",
      "Name: Kitchen Qual, dtype: int64\n",
      "Column----------> Functional \n",
      "\n",
      "\n",
      "Typ     1365\n",
      "Min2      37\n",
      "Min1      32\n",
      "Mod       18\n",
      "Maj2       6\n",
      "Maj1       6\n",
      "Sev        1\n",
      "Name: Functional, dtype: int64\n",
      "Column----------> Paved Drive \n",
      "\n",
      "\n",
      "Y    1332\n",
      "N     106\n",
      "P      27\n",
      "Name: Paved Drive, dtype: int64\n",
      "Column----------> Sale Type \n",
      "\n",
      "\n",
      "WD       1314\n",
      "New        59\n",
      "COD        54\n",
      "ConLD      18\n",
      "ConLI       6\n",
      "ConLw       5\n",
      "Con         4\n",
      "Oth         4\n",
      "CWD         1\n",
      "Name: Sale Type, dtype: int64\n",
      "Column----------> Sale Condition \n",
      "\n",
      "\n",
      "Normal     1272\n",
      "Abnorml      98\n",
      "Partial      63\n",
      "Family       18\n",
      "Alloca       14\n",
      "Name: Sale Condition, dtype: int64\n"
     ]
    }
   ],
   "source": [
    "for col in object_cols:\n",
    "    print(f\"Column----------> {col} \\n\\n\")\n",
    "    print(train[col].value_counts())"
   ]
  },
  {
   "cell_type": "code",
   "execution_count": 43,
   "metadata": {},
   "outputs": [
    {
     "name": "stderr",
     "output_type": "stream",
     "text": [
      "c:\\pyvirtualenv\\ml\\lib\\site-packages\\ipykernel_launcher.py:2: SettingWithCopyWarning: \n",
      "A value is trying to be set on a copy of a slice from a DataFrame.\n",
      "Try using .loc[row_indexer,col_indexer] = value instead\n",
      "\n",
      "See the caveats in the documentation: http://pandas.pydata.org/pandas-docs/stable/user_guide/indexing.html#returning-a-view-versus-a-copy\n",
      "  \n"
     ]
    }
   ],
   "source": [
    "# Converts all object data type to category dtype\n",
    "for col in object_cols:\n",
    "    train[col] = train[col].astype('category')"
   ]
  },
  {
   "cell_type": "code",
   "execution_count": 47,
   "metadata": {},
   "outputs": [
    {
     "data": {
      "text/plain": [
       "array([dtype('int64'),\n",
       "       CategoricalDtype(categories=['C (all)', 'FV', 'I (all)', 'RH', 'RL', 'RM'], ordered=False),\n",
       "       CategoricalDtype(categories=['Grvl', 'Pave'], ordered=False),\n",
       "       CategoricalDtype(categories=['IR1', 'IR2', 'IR3', 'Reg'], ordered=False),\n",
       "       CategoricalDtype(categories=['Bnk', 'HLS', 'Low', 'Lvl'], ordered=False),\n",
       "       CategoricalDtype(categories=['AllPub', 'NoSeWa', 'NoSewr'], ordered=False),\n",
       "       CategoricalDtype(categories=['Corner', 'CulDSac', 'FR2', 'FR3', 'Inside'], ordered=False),\n",
       "       CategoricalDtype(categories=['Gtl', 'Mod', 'Sev'], ordered=False),\n",
       "       CategoricalDtype(categories=['Blmngtn', 'Blueste', 'BrDale', 'BrkSide', 'ClearCr',\n",
       "                  'CollgCr', 'Crawfor', 'Edwards', 'Gilbert', 'Greens',\n",
       "                  'IDOTRR', 'MeadowV', 'Mitchel', 'NAmes', 'NPkVill', 'NWAmes',\n",
       "                  'NoRidge', 'NridgHt', 'OldTown', 'SWISU', 'Sawyer',\n",
       "                  'SawyerW', 'Somerst', 'StoneBr', 'Timber', 'Veenker'],\n",
       "                 ordered=False),\n",
       "       CategoricalDtype(categories=['Artery', 'Feedr', 'Norm', 'PosA', 'PosN', 'RRAe', 'RRAn',\n",
       "                  'RRNe', 'RRNn'],\n",
       "                 ordered=False),\n",
       "       CategoricalDtype(categories=['Artery', 'Feedr', 'Norm', 'PosA', 'PosN', 'RRNn'], ordered=False),\n",
       "       CategoricalDtype(categories=['1Fam', '2fmCon', 'Duplex', 'Twnhs', 'TwnhsE'], ordered=False),\n",
       "       CategoricalDtype(categories=['1.5Fin', '1.5Unf', '1Story', '2.5Fin', '2.5Unf', '2Story',\n",
       "                  'SFoyer', 'SLvl'],\n",
       "                 ordered=False),\n",
       "       CategoricalDtype(categories=['Flat', 'Gable', 'Gambrel', 'Hip', 'Mansard', 'Shed'], ordered=False),\n",
       "       CategoricalDtype(categories=['CompShg', 'Membran', 'Tar&Grv', 'WdShake', 'WdShngl'], ordered=False),\n",
       "       CategoricalDtype(categories=['AsbShng', 'AsphShn', 'BrkComm', 'BrkFace', 'CBlock',\n",
       "                  'CemntBd', 'HdBoard', 'MetalSd', 'Plywood', 'PreCast',\n",
       "                  'Stucco', 'VinylSd', 'Wd Sdng', 'WdShing'],\n",
       "                 ordered=False),\n",
       "       CategoricalDtype(categories=['AsbShng', 'AsphShn', 'Brk Cmn', 'BrkFace', 'CBlock',\n",
       "                  'CmentBd', 'HdBoard', 'ImStucc', 'MetalSd', 'Plywood',\n",
       "                  'PreCast', 'Stone', 'Stucco', 'VinylSd', 'Wd Sdng',\n",
       "                  'Wd Shng'],\n",
       "                 ordered=False),\n",
       "       CategoricalDtype(categories=['Ex', 'Fa', 'Gd', 'TA'], ordered=False),\n",
       "       CategoricalDtype(categories=['Ex', 'Fa', 'Gd', 'Po', 'TA'], ordered=False),\n",
       "       CategoricalDtype(categories=['BrkTil', 'CBlock', 'PConc', 'Slab', 'Stone', 'Wood'], ordered=False),\n",
       "       CategoricalDtype(categories=['Floor', 'GasA', 'GasW', 'Grav', 'OthW', 'Wall'], ordered=False),\n",
       "       CategoricalDtype(categories=['N', 'Y'], ordered=False),\n",
       "       CategoricalDtype(categories=['Maj1', 'Maj2', 'Min1', 'Min2', 'Mod', 'Sev', 'Typ'], ordered=False),\n",
       "       CategoricalDtype(categories=['N', 'P', 'Y'], ordered=False),\n",
       "       CategoricalDtype(categories=['COD', 'CWD', 'Con', 'ConLD', 'ConLI', 'ConLw', 'New', 'Oth',\n",
       "                  'WD '],\n",
       "                 ordered=False),\n",
       "       CategoricalDtype(categories=['Abnorml', 'Alloca', 'Family', 'Normal', 'Partial'], ordered=False)],\n",
       "      dtype=object)"
      ]
     },
     "execution_count": 47,
     "metadata": {},
     "output_type": "execute_result"
    }
   ],
   "source": [
    "train.dtypes.unique()"
   ]
  },
  {
   "cell_type": "markdown",
   "metadata": {},
   "source": [
    "#### Disadvantages of Categorical column in Linear Regression\n",
    "\n",
    "When we convert a column to the categorical data type, pandas assigns a number from 0 to n-1 (where n is the number of unique values in a column) for each value. The drawback with this approach is that one of the assumptions of linear regression is violated here. Linear regression operates under the assumption that the features are linearly correlated with the target column. For a categorical feature, however, there's no actual numerical meaning to the categorical codes that pandas assigned for that column. An increase in the Utilities column from 1 to 2 has no correlation value with the target column, and the categorical codes are instead used for uniqueness and exclusivity (the category associated with 0 is different than the one associated with 1).\n",
    "\n",
    "The common solution is to use a technique called dummy coding. Instead of having a single column with n integer codes, we have n binary columns. Here's what that would look like for the Utilities column:\n",
    "\n",
    "\n",
    "\n",
    "    \n",
    "    \n",
    "<table>\n",
    "    <tr><td>Utilities_AllPub</td><td>    Utilities_NoSewr</td><td>\tUtilities_NoSeWa</td></tr>\n",
    "    <tr><td>1\t</td><td>0\t</td><td>0</td></tr>\n",
    "    <tr><td>1\t</td><td>0\t</td><td>0</td></tr>\n",
    "    <tr><td>1\t</td><td>0\t</td><td>0</td></tr>\n",
    "    <tr><td>1\t</td><td>0\t</td><td>0</td></tr>\n",
    "</table>"
   ]
  },
  {
   "cell_type": "code",
   "execution_count": 55,
   "metadata": {},
   "outputs": [
    {
     "name": "stderr",
     "output_type": "stream",
     "text": [
      "c:\\pyvirtualenv\\ml\\lib\\site-packages\\ipykernel_launcher.py:2: SettingWithCopyWarning: \n",
      "A value is trying to be set on a copy of a slice from a DataFrame.\n",
      "Try using .loc[row_indexer,col_indexer] = value instead\n",
      "\n",
      "See the caveats in the documentation: http://pandas.pydata.org/pandas-docs/stable/user_guide/indexing.html#returning-a-view-versus-a-copy\n",
      "  \n"
     ]
    }
   ],
   "source": [
    "# Split Utilities columns into as many columns as its unique values\n",
    "# could also use pd.get_dummies()\n",
    "utility_codes = train['Utilities'].unique()\n",
    "for code in utility_codes:\n",
    "    train[\"Utilities_\"+code] = train[\"Utilities\"].apply(lambda val: 1 if val == code else 0)"
   ]
  },
  {
   "cell_type": "code",
   "execution_count": 62,
   "metadata": {},
   "outputs": [
    {
     "data": {
      "text/html": [
       "<div>\n",
       "<style scoped>\n",
       "    .dataframe tbody tr th:only-of-type {\n",
       "        vertical-align: middle;\n",
       "    }\n",
       "\n",
       "    .dataframe tbody tr th {\n",
       "        vertical-align: top;\n",
       "    }\n",
       "\n",
       "    .dataframe thead th {\n",
       "        text-align: right;\n",
       "    }\n",
       "</style>\n",
       "<table border=\"1\" class=\"dataframe\">\n",
       "  <thead>\n",
       "    <tr style=\"text-align: right;\">\n",
       "      <th></th>\n",
       "      <th>Utilities_AllPub</th>\n",
       "      <th>Utilities_NoSewr</th>\n",
       "      <th>Utilities_NoSeWa</th>\n",
       "      <th>Utilities</th>\n",
       "    </tr>\n",
       "  </thead>\n",
       "  <tbody>\n",
       "    <tr>\n",
       "      <th>945</th>\n",
       "      <td>0</td>\n",
       "      <td>1</td>\n",
       "      <td>0</td>\n",
       "      <td>NoSewr</td>\n",
       "    </tr>\n",
       "    <tr>\n",
       "      <th>1013</th>\n",
       "      <td>0</td>\n",
       "      <td>1</td>\n",
       "      <td>0</td>\n",
       "      <td>NoSewr</td>\n",
       "    </tr>\n",
       "  </tbody>\n",
       "</table>\n",
       "</div>"
      ],
      "text/plain": [
       "      Utilities_AllPub  Utilities_NoSewr  Utilities_NoSeWa Utilities\n",
       "945                  0                 1                 0    NoSewr\n",
       "1013                 0                 1                 0    NoSewr"
      ]
     },
     "execution_count": 62,
     "metadata": {},
     "output_type": "execute_result"
    }
   ],
   "source": [
    "cols = [\"Utilities_\"+code for code in utility_codes]\n",
    "cols.append(\"Utilities\")\n",
    "train[cols]"
   ]
  },
  {
   "cell_type": "code",
   "execution_count": null,
   "metadata": {},
   "outputs": [],
   "source": [
    "#train['Paved Drive']\n",
    "pd.get_dummies(train['Paved Drive'], prefix=\"Paved_Drive\")"
   ]
  },
  {
   "cell_type": "code",
   "execution_count": 68,
   "metadata": {},
   "outputs": [
    {
     "data": {
      "text/plain": [
       "Index(['Order', 'PID', 'MS SubClass', 'MS Zoning', 'Lot Area', 'Street',\n",
       "       'Lot Shape', 'Land Contour', 'Utilities', 'Lot Config', 'Land Slope',\n",
       "       'Neighborhood', 'Condition 1', 'Condition 2', 'Bldg Type',\n",
       "       'House Style', 'Overall Qual', 'Overall Cond', 'Year Built',\n",
       "       'Year Remod/Add', 'Roof Style', 'Roof Matl', 'Exterior 1st',\n",
       "       'Exterior 2nd', 'Exter Qual', 'Exter Cond', 'Foundation', 'Heating',\n",
       "       'Heating QC', 'Central Air', '1st Flr SF', '2nd Flr SF',\n",
       "       'Low Qual Fin SF', 'Gr Liv Area', 'Full Bath', 'Half Bath',\n",
       "       'Bedroom AbvGr', 'Kitchen AbvGr', 'Kitchen Qual', 'TotRms AbvGrd',\n",
       "       'Functional', 'Fireplaces', 'Paved Drive', 'Wood Deck SF',\n",
       "       'Open Porch SF', 'Enclosed Porch', '3Ssn Porch', 'Screen Porch',\n",
       "       'Pool Area', 'Misc Val', 'Mo Sold', 'Yr Sold', 'Sale Type',\n",
       "       'Sale Condition', 'SalePrice', 'Utilities_AllPub', 'Utilities_NoSewr',\n",
       "       'Utilities_NoSeWa'],\n",
       "      dtype='object')"
      ]
     },
     "execution_count": 68,
     "metadata": {},
     "output_type": "execute_result"
    }
   ],
   "source": [
    "train.columns"
   ]
  },
  {
   "cell_type": "code",
   "execution_count": 70,
   "metadata": {},
   "outputs": [
    {
     "data": {
      "text/plain": [
       "(1465, 58)"
      ]
     },
     "execution_count": 70,
     "metadata": {},
     "output_type": "execute_result"
    }
   ],
   "source": [
    "train.shape"
   ]
  },
  {
   "cell_type": "code",
   "execution_count": 71,
   "metadata": {},
   "outputs": [
    {
     "data": {
      "text/plain": [
       "Order               0\n",
       "PID                 0\n",
       "MS SubClass         0\n",
       "MS Zoning           0\n",
       "Lot Area            0\n",
       "Street              0\n",
       "Lot Shape           0\n",
       "Land Contour        0\n",
       "Utilities           0\n",
       "Lot Config          0\n",
       "Land Slope          0\n",
       "Neighborhood        0\n",
       "Condition 1         0\n",
       "Condition 2         0\n",
       "Bldg Type           0\n",
       "House Style         0\n",
       "Overall Qual        0\n",
       "Overall Cond        0\n",
       "Year Built          0\n",
       "Year Remod/Add      0\n",
       "Roof Style          0\n",
       "Roof Matl           0\n",
       "Exterior 1st        0\n",
       "Exterior 2nd        0\n",
       "Exter Qual          0\n",
       "Exter Cond          0\n",
       "Foundation          0\n",
       "Heating             0\n",
       "Heating QC          0\n",
       "Central Air         0\n",
       "1st Flr SF          0\n",
       "2nd Flr SF          0\n",
       "Low Qual Fin SF     0\n",
       "Gr Liv Area         0\n",
       "Full Bath           0\n",
       "Half Bath           0\n",
       "Bedroom AbvGr       0\n",
       "Kitchen AbvGr       0\n",
       "Kitchen Qual        0\n",
       "TotRms AbvGrd       0\n",
       "Functional          0\n",
       "Fireplaces          0\n",
       "Paved Drive         0\n",
       "Wood Deck SF        0\n",
       "Open Porch SF       0\n",
       "Enclosed Porch      0\n",
       "3Ssn Porch          0\n",
       "Screen Porch        0\n",
       "Pool Area           0\n",
       "Misc Val            0\n",
       "Mo Sold             0\n",
       "Yr Sold             0\n",
       "Sale Type           0\n",
       "Sale Condition      0\n",
       "SalePrice           0\n",
       "Utilities_AllPub    0\n",
       "Utilities_NoSewr    0\n",
       "Utilities_NoSeWa    0\n",
       "dtype: int64"
      ]
     },
     "execution_count": 71,
     "metadata": {},
     "output_type": "execute_result"
    }
   ],
   "source": [
    "train.isnull().sum()"
   ]
  },
  {
   "cell_type": "code",
   "execution_count": null,
   "metadata": {},
   "outputs": [],
   "source": []
  }
 ],
 "metadata": {
  "kernelspec": {
   "display_name": "Python 3",
   "language": "python",
   "name": "python3"
  },
  "language_info": {
   "codemirror_mode": {
    "name": "ipython",
    "version": 3
   },
   "file_extension": ".py",
   "mimetype": "text/x-python",
   "name": "python",
   "nbconvert_exporter": "python",
   "pygments_lexer": "ipython3",
   "version": "3.6.8"
  },
  "latex_envs": {
   "LaTeX_envs_menu_present": true,
   "autoclose": false,
   "autocomplete": true,
   "bibliofile": "biblio.bib",
   "cite_by": "apalike",
   "current_citInitial": 1,
   "eqLabelWithNumbers": true,
   "eqNumInitial": 1,
   "hotkeys": {
    "equation": "Ctrl-E",
    "itemize": "Ctrl-I"
   },
   "labels_anchors": false,
   "latex_user_defs": false,
   "report_style_numbering": false,
   "user_envs_cfg": false
  }
 },
 "nbformat": 4,
 "nbformat_minor": 2
}
